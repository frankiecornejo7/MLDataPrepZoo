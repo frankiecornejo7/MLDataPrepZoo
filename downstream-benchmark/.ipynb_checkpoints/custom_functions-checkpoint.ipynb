{
 "cells": [
  {
   "cell_type": "code",
   "execution_count": null,
   "metadata": {},
   "outputs": [],
   "source": [
    "# ==============================================================================\n",
    "# File: custom_functions.py\n",
    "# Author: Francisco Cornejo-Garcia\n",
    "# Description: Custom functions for data\n",
    "# =============================================================================="
   ]
  },
  {
   "cell_type": "code",
   "execution_count": null,
   "metadata": {},
   "outputs": [],
   "source": [
    "# Validate datetime format\n",
    "def validate(datetime):\n",
    "    try:\n",
    "        return parse(datetime)\n",
    "    except:\n",
    "        return 'Error: Not a date'"
   ]
  },
  {
   "cell_type": "code",
   "execution_count": null,
   "metadata": {},
   "outputs": [],
   "source": [
    "# Find season based on date input\n",
    "def findSeason(month, day):\n",
    "    if month <= 3:\n",
    "        season = 'winter'\n",
    "    elif month >= 4 and month <= 6:\n",
    "        season = 'spring'\n",
    "    elif month >= 7 and month <= 9:\n",
    "        season = 'summer'\n",
    "    else:\n",
    "        season = 'autumn'\n",
    "        \n",
    "    if month == 3 and day > 19:\n",
    "        season = 'spring'\n",
    "    elif month == 6 and day > 20:\n",
    "        season = 'summer'\n",
    "    elif month == 9 and day > 21:\n",
    "        season = 'autumn'\n",
    "    elif month == 12 and day > 20:\n",
    "        season = 'winter'\n",
    "    return season"
   ]
  }
 ],
 "metadata": {
  "kernelspec": {
   "display_name": "Python 3",
   "language": "python",
   "name": "python3"
  },
  "language_info": {
   "codemirror_mode": {
    "name": "ipython",
    "version": 3
   },
   "file_extension": ".py",
   "mimetype": "text/x-python",
   "name": "python",
   "nbconvert_exporter": "python",
   "pygments_lexer": "ipython3",
   "version": "3.7.6"
  }
 },
 "nbformat": 4,
 "nbformat_minor": 4
}
