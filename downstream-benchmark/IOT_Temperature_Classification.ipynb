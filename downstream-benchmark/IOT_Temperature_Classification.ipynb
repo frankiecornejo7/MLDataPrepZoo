{
 "cells": [
  {
   "cell_type": "code",
   "execution_count": null,
   "metadata": {},
   "outputs": [],
   "source": [
    "import csv\n",
    "import pandas as pd\n",
    "from collections import Counter\n",
    "from matplotlib import pyplot as plt\n",
    "from sklearn.feature_extraction import DictVectorizer\n",
    "from sklearn.feature_extraction.text import CountVectorizer\n",
    "from sklearn.preprocessing import OneHotEncoder\n",
    "from collections import defaultdict\n",
    "import math\n",
    "import re\n",
    "from sklearn.metrics import confusion_matrix, accuracy_score\n",
    "from sklearn.model_selection import train_test_split\n",
    "from sklearn.preprocessing import StandardScaler, MinMaxScaler\n",
    "from sklearn.model_selection import KFold,StratifiedKFold\n",
    "from sklearn import metrics\n",
    "import enchant\n",
    "from sklearn import preprocessing\n",
    "le = preprocessing.LabelEncoder()\n",
    "from sklearn.svm import LinearSVC,LinearSVR\n",
    "from sklearn.metrics import mean_squared_error\n",
    "from math import sqrt\n",
    "from sklearn.feature_extraction.text import CountVectorizer\n",
    "from sklearn.linear_model import Ridge\n",
    "from sklearn.neural_network import MLPClassifier,MLPRegressor\n",
    "from sklearn.tree import DecisionTreeClassifier, export_graphviz\n",
    "from sklearn.neural_network import MLPClassifier\n",
    "from sklearn.ensemble import RandomForestClassifier,RandomForestRegressor\n",
    "from sklearn.model_selection import train_test_split\n",
    "# from sklearn.cross_validation import train_test_split\n",
    "from sklearn.linear_model import LogisticRegression, LogisticRegressionCV\n",
    "from sklearn import tree\n",
    "from downstream_models import LogRegClassifier, RandForestClassifier, LinearRegression, RandForestRegressor, MLPRegressorr, MLPClassifierr\n",
    "\n",
    "import sys\n",
    "\n",
    "maxintval = sys.maxsize\n",
    "\n",
    "import warnings\n",
    "warnings.filterwarnings('ignore')\n",
    "\n",
    "\n",
    "Hcurstate = 100"
   ]
  },
  {
   "cell_type": "code",
   "execution_count": null,
   "metadata": {},
   "outputs": [],
   "source": [
    "iot = pd.read_csv('dataset/iot.csv')\n",
    "iot"
   ]
  },
  {
   "cell_type": "code",
   "execution_count": null,
   "metadata": {
    "scrolled": true
   },
   "outputs": [],
   "source": [
    "numeric_cols = iot[['temp']]\n",
    "# categ_cols = iot[['Conditions']]\n",
    "# categ_cols = pd.get_dummies(categ_cols, columns=['Conditions'])\n",
    "ngram_cols = iot[['room_id/id','noted_date']]\n",
    "\n",
    "target = iot['out/in']\n",
    "\n",
    "vectorizer = CountVectorizer(ngram_range=(2,2),analyzer='char')\n",
    "all_cols = pd.DataFrame()\n",
    "all_cols = pd.concat([all_cols,numeric_cols], axis=1, sort=False)\n",
    "\n",
    "for cols in ngram_cols.columns:\n",
    "    print(cols)\n",
    "    arr = ngram_cols[cols].astype(str).values\n",
    "    X = vectorizer.fit_transform(arr)\n",
    "    tempdf = pd.DataFrame(X.toarray())\n",
    "    all_cols = pd.concat([all_cols,tempdf], axis=1, sort=False)\n",
    "\n",
    "all_cols = all_cols.fillna('0')    "
   ]
  },
  {
   "cell_type": "code",
   "execution_count": null,
   "metadata": {
    "scrolled": true
   },
   "outputs": [],
   "source": [
    "# avgsc_train_lst,avgsc_lst,avgsc_hld_lst = LinearRegression(all_cols,target)\n",
    "avgsc_train_lst,avgsc_lst,avgsc_hld_lst,cnf_matrix = LogRegClassifier(all_cols,target)"
   ]
  },
  {
   "cell_type": "code",
   "execution_count": null,
   "metadata": {
    "scrolled": true
   },
   "outputs": [],
   "source": [
    "# avgsc_train_lst,avgsc_lst,avgsc_hld_lst = RandForestRegressor(all_cols,target)\n",
    "avgsc_train_lst,avgsc_lst,avgsc_hld_lst,cnf_matrix = RandForestClassifier(all_cols,target)"
   ]
  },
  {
   "cell_type": "code",
   "execution_count": null,
   "metadata": {
    "scrolled": true
   },
   "outputs": [],
   "source": [
    "# avgsc_train_lst,avgsc_lst,avgsc_hld_lst = MLPRegressorr(all_cols,target)\n",
    "avgsc_train_lst,avgsc_lst,avgsc_hld_lst,cnf_matrix = MLPClassifierr(all_cols,target)"
   ]
  },
  {
   "cell_type": "code",
   "execution_count": null,
   "metadata": {},
   "outputs": [],
   "source": []
  }
 ],
 "metadata": {
  "kernelspec": {
   "display_name": "Python 3",
   "language": "python",
   "name": "python3"
  },
  "language_info": {
   "codemirror_mode": {
    "name": "ipython",
    "version": 3
   },
   "file_extension": ".py",
   "mimetype": "text/x-python",
   "name": "python",
   "nbconvert_exporter": "python",
   "pygments_lexer": "ipython3",
   "version": "3.7.6"
  }
 },
 "nbformat": 4,
 "nbformat_minor": 4
}
