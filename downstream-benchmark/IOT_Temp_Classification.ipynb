{
 "cells": [
  {
   "cell_type": "code",
   "execution_count": 1,
   "metadata": {},
   "outputs": [],
   "source": [
    "# ==============================================================================\n",
    "# File: IOT_Temp_Classification.ipynb\n",
    "# Author: Vraj Shah\n",
    "# Revisions by: Francisco Cornejo-Garcia\n",
    "# Description: Classify date and time\n",
    "# ==============================================================================\n",
    "\n",
    "# Load models\n",
    "from downstream_models import LogRegClassifier, RandForestClassifier, LinearRegression, RandForestRegressor, MLPRegressorr, MLPClassifierr\n",
    "\n",
    "# Load libraries\n",
    "import pandas as pd\n",
    "import re\n",
    "from collections import Counter\n",
    "from collections import defaultdict\n",
    "from matplotlib import pyplot as plt\n",
    "\n",
    "# Load scikit-learn libraries\n",
    "from sklearn.feature_extraction import DictVectorizer\n",
    "from sklearn.feature_extraction.text import CountVectorizer\n",
    "from sklearn.preprocessing import OneHotEncoder\n",
    "from sklearn.model_selection import train_test_split\n",
    "from sklearn.preprocessing import StandardScaler, MinMaxScaler\n",
    "from sklearn import preprocessing\n",
    "le = preprocessing.LabelEncoder()\n",
    "from sklearn.svm import LinearSVC,LinearSVR\n",
    "from sklearn.feature_extraction.text import CountVectorizer\n",
    "import warnings\n",
    "warnings.filterwarnings('ignore')"
   ]
  },
  {
   "cell_type": "code",
   "execution_count": 2,
   "metadata": {},
   "outputs": [],
   "source": [
    "# Load data\n",
    "iot = pd.read_csv('dataset/iot.csv')"
   ]
  },
  {
   "cell_type": "code",
   "execution_count": 3,
   "metadata": {
    "scrolled": true
   },
   "outputs": [],
   "source": [
    "# Create separate columns\n",
    "numeric_cols = iot[['temp']]\n",
    "ngram_cols = iot[['room_id/id','noted_date']]\n",
    "target = iot['out/in']\n",
    "\n",
    "# Create ngram vectorizer\n",
    "vectorizer = CountVectorizer(ngram_range = (2,2),analyzer = 'char')\n",
    "\n",
    "# Create dataframe\n",
    "table = pd.DataFrame()\n",
    "table = pd.concat([table, numeric_cols], axis = 1, sort = False)\n",
    "\n",
    "# Iterate through each ngram column\n",
    "for col in ngram_cols.columns:\n",
    "    # Transform values in column as strings\n",
    "    array = ngram_cols[col].astype(str).values\n",
    "    X = vectorizer.fit_transform(array)\n",
    "    dataframe = pd.DataFrame(X.toarray())\n",
    "    table = pd.concat([table, dataframe], axis = 1, sort = False)"
   ]
  },
  {
   "cell_type": "code",
   "execution_count": 4,
   "metadata": {
    "scrolled": true
   },
   "outputs": [
    {
     "name": "stdout",
     "output_type": "stream",
     "text": [
      "(46850, 103)\n",
      "(15617, 103)\n",
      "0.8386508076264267\n",
      "0.8363322020874688\n",
      "0.8380288904825325\n",
      "(46850, 103)\n",
      "(15617, 103)\n",
      "0.836201514399603\n",
      "0.8372286610744701\n",
      "0.8385923573404365\n",
      "(46850, 103)\n",
      "(15617, 103)\n",
      "0.8370499623801367\n",
      "0.8344752513286803\n",
      "0.8372605265853909\n",
      "(46850, 103)\n",
      "(15617, 103)\n",
      "0.8376903004786528\n",
      "0.8371646282896843\n",
      "0.8386435816002459\n",
      "(46851, 103)\n",
      "(15617, 103)\n",
      "0.8353396939232888\n",
      "0.8366419057377049\n",
      "0.8369019567667247\n",
      "5 fold Train, Validation, and Test Accuracies:\n",
      "[0.8386508076264267, 0.836201514399603, 0.8370499623801367, 0.8376903004786528, 0.8353396939232888]\n",
      "[0.8363322020874688, 0.8372286610744701, 0.8344752513286803, 0.8371646282896843, 0.8366419057377049]\n",
      "[0.8380288904825325, 0.8385923573404365, 0.8372605265853909, 0.8386435816002459, 0.8369019567667247]\n",
      "Avg Train, Validation, and Test Accuracies:\n",
      "0.8369864557616216\n",
      "0.8363685297036018\n",
      "0.837885462555066\n"
     ]
    }
   ],
   "source": [
    "# Logistic Regression\n",
    "avgsc_train_lst, avgsc_lst, avgsc_hld_lst, cnf_matrix = LogRegClassifier(table, target)"
   ]
  },
  {
   "cell_type": "code",
   "execution_count": 5,
   "metadata": {
    "scrolled": true
   },
   "outputs": [
    {
     "name": "stdout",
     "output_type": "stream",
     "text": [
      "(46850, 103)\n",
      "(15617, 103)\n",
      "0.9511742199881538\n",
      "0.9341102644554011\n",
      "0.9374039545128573\n",
      "(46850, 103)\n",
      "(15617, 103)\n",
      "0.9505979156994894\n",
      "0.934814625088045\n",
      "0.9378137485913328\n",
      "(46850, 103)\n",
      "(15617, 103)\n",
      "0.951766532729281\n",
      "0.9339821988858296\n",
      "0.9380698698903801\n",
      "(46850, 103)\n",
      "(15617, 103)\n",
      "0.9501816959354539\n",
      "0.9364794774924762\n",
      "0.9375064030324762\n",
      "(46851, 103)\n",
      "(15617, 103)\n",
      "0.9511589934046232\n",
      "0.9360271516393442\n",
      "0.9376600758119045\n",
      "5 fold Train, Validation, and Test Accuracies:\n",
      "[0.9511742199881538, 0.9505979156994894, 0.951766532729281, 0.9501816959354539, 0.9511589934046232]\n",
      "[0.9341102644554011, 0.934814625088045, 0.9339821988858296, 0.9364794774924762, 0.9360271516393442]\n",
      "[0.9374039545128573, 0.9378137485913328, 0.9380698698903801, 0.9375064030324762, 0.9376600758119045]\n",
      "Avg Train, Validation, and Test Accuracies:\n",
      "0.9509758715514002\n",
      "0.9350827435122191\n",
      "0.9376908103677902\n"
     ]
    }
   ],
   "source": [
    "# Random Forest\n",
    "avgsc_train_lst, avgsc_lst, avgsc_hld_lst, cnf_matrix = RandForestClassifier(table, target)"
   ]
  },
  {
   "cell_type": "code",
   "execution_count": null,
   "metadata": {
    "scrolled": true
   },
   "outputs": [
    {
     "name": "stdout",
     "output_type": "stream",
     "text": [
      "(46850, 103)\n",
      "(15617, 103)\n"
     ]
    }
   ],
   "source": [
    "# MLP Classifier & Regressor\n",
    "avgsc_train_lst, avgsc_lst, avgsc_hld_lst = MLPClassifierr(table, target)"
   ]
  }
 ],
 "metadata": {
  "kernelspec": {
   "display_name": "Python 3",
   "language": "python",
   "name": "python3"
  },
  "language_info": {
   "codemirror_mode": {
    "name": "ipython",
    "version": 3
   },
   "file_extension": ".py",
   "mimetype": "text/x-python",
   "name": "python",
   "nbconvert_exporter": "python",
   "pygments_lexer": "ipython3",
   "version": "3.7.6"
  }
 },
 "nbformat": 4,
 "nbformat_minor": 4
}
