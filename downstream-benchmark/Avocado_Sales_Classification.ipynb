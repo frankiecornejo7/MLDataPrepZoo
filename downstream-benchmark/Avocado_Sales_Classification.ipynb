{
 "cells": [
  {
   "cell_type": "code",
   "execution_count": 1,
   "metadata": {},
   "outputs": [],
   "source": [
    "# ==============================================================================\n",
    "# File: Avocado_Sales_Classification.ipynb\n",
    "# Author: Vraj Shah\n",
    "# Revisions by: Francisco Cornejo-Garcia\n",
    "# Description: Classify date and time\n",
    "# ==============================================================================\n",
    "\n",
    "# Load models\n",
    "from downstream_models import LogRegClassifier, RandForestClassifier, LinearRegression, RandForestRegressor, MLPRegressorr, MLPClassifierr\n",
    "\n",
    "# Load libraries\n",
    "import pandas as pd\n",
    "import re\n",
    "from collections import Counter\n",
    "from collections import defaultdict\n",
    "from matplotlib import pyplot as plt\n",
    "\n",
    "# Load scikit-learn libraries\n",
    "from sklearn.feature_extraction import DictVectorizer\n",
    "from sklearn.feature_extraction.text import CountVectorizer\n",
    "from sklearn.preprocessing import OneHotEncoder\n",
    "from sklearn.model_selection import train_test_split\n",
    "from sklearn.preprocessing import StandardScaler, MinMaxScaler\n",
    "from sklearn import preprocessing\n",
    "le = preprocessing.LabelEncoder()\n",
    "from sklearn.svm import LinearSVC,LinearSVR\n",
    "from sklearn.feature_extraction.text import CountVectorizer\n",
    "import warnings\n",
    "warnings.filterwarnings('ignore')"
   ]
  },
  {
   "cell_type": "code",
   "execution_count": 2,
   "metadata": {},
   "outputs": [],
   "source": [
    "# Load data\n",
    "avocado = pd.read_csv('dataset/avocado.csv')\n",
    "# Rename columns\n",
    "avocado.columns = ['index', 'date', 'avgPrice', 'totalVolume', '4046', '4225', '4770', 'totalBags', 'smallBags', 'largeBags', 'xlargeBags', 'type', 'year', 'region']"
   ]
  },
  {
   "cell_type": "code",
   "execution_count": 3,
   "metadata": {},
   "outputs": [],
   "source": [
    "# Create separate columns\n",
    "numeric_cols = avocado[['avgPrice']]\n",
    "ngram_cols = avocado[['date', 'year']]\n",
    "target = avocado['region']\n",
    "\n",
    "# Create ngram vectorizer\n",
    "vectorizer = CountVectorizer(ngram_range = (2,2),analyzer = 'char')\n",
    "\n",
    "# Create dataframe\n",
    "table = pd.DataFrame()\n",
    "table = pd.concat([table, numeric_cols], axis = 1, sort = False)\n",
    "\n",
    "# Iterate through each ngram column\n",
    "for col in ngram_cols.columns:\n",
    "    # Transform values in column as strings\n",
    "    array = ngram_cols[col].astype(str).values\n",
    "    X = vectorizer.fit_transform(array)\n",
    "    dataframe = pd.DataFrame(X.toarray())\n",
    "    table = pd.concat([table, dataframe], axis = 1, sort = False)"
   ]
  },
  {
   "cell_type": "code",
   "execution_count": 4,
   "metadata": {},
   "outputs": [
    {
     "name": "stdout",
     "output_type": "stream",
     "text": [
      "(8759, 52)\n",
      "(2920, 52)\n",
      "0.033478893740902474\n",
      "0.01643835616438356\n",
      "0.017534246575342465\n",
      "(8759, 52)\n",
      "(2920, 52)\n",
      "0.034934497816593885\n",
      "0.018150684931506848\n",
      "0.021369863013698632\n",
      "(8759, 52)\n",
      "(2920, 52)\n",
      "0.03998630019693467\n",
      "0.01780821917808219\n",
      "0.016712328767123287\n",
      "(8759, 52)\n",
      "(2920, 52)\n",
      "0.036646973199760256\n",
      "0.015753424657534248\n",
      "0.01863013698630137\n",
      "(8760, 52)\n",
      "(2920, 52)\n",
      "0.037842465753424655\n",
      "0.020212401507365536\n",
      "0.02219178082191781\n",
      "5 fold Train, Validation, and Test Accuracies:\n",
      "[0.033478893740902474, 0.034934497816593885, 0.03998630019693467, 0.036646973199760256, 0.037842465753424655]\n",
      "[0.01643835616438356, 0.018150684931506848, 0.01780821917808219, 0.015753424657534248, 0.020212401507365536]\n",
      "[0.017534246575342465, 0.021369863013698632, 0.016712328767123287, 0.01863013698630137, 0.02219178082191781]\n",
      "Avg Train, Validation, and Test Accuracies:\n",
      "0.03657782614152319\n",
      "0.01767261728777448\n",
      "0.019287671232876714\n"
     ]
    }
   ],
   "source": [
    "# Log Regression\n",
    "avgsc_train_lst, avgsc_lst, avgsc_hld_lst, cnf_matrix = LogRegClassifier(table, target)"
   ]
  },
  {
   "cell_type": "code",
   "execution_count": 5,
   "metadata": {},
   "outputs": [
    {
     "name": "stdout",
     "output_type": "stream",
     "text": [
      "(8759, 52)\n",
      "(2920, 52)\n",
      "0.04615121157633359\n",
      "0.021232876712328767\n",
      "0.020821917808219178\n",
      "(8759, 52)\n",
      "(2920, 52)\n",
      "0.06807089648086309\n",
      "0.017123287671232876\n",
      "0.023013698630136987\n",
      "(8759, 52)\n",
      "(2920, 52)\n",
      "0.08048634300881925\n",
      "0.01678082191780822\n",
      "0.011506849315068493\n",
      "(8759, 52)\n",
      "(2920, 52)\n",
      "0.044267488654850584\n",
      "0.02089041095890411\n",
      "0.019452054794520546\n",
      "(8760, 52)\n",
      "(2920, 52)\n",
      "0.052311643835616435\n",
      "0.02603631380609798\n",
      "0.027123287671232878\n",
      "5 fold Train, Validation, and Test Accuracies:\n",
      "[0.04615121157633359, 0.06807089648086309, 0.08048634300881925, 0.044267488654850584, 0.052311643835616435]\n",
      "[0.021232876712328767, 0.017123287671232876, 0.01678082191780822, 0.02089041095890411, 0.02603631380609798]\n",
      "[0.020821917808219178, 0.023013698630136987, 0.011506849315068493, 0.019452054794520546, 0.027123287671232878]\n",
      "Avg Train, Validation, and Test Accuracies:\n",
      "0.058257516711296586\n",
      "0.02041274221327439\n",
      "0.020383561643835618\n"
     ]
    }
   ],
   "source": [
    "# Random Forest Classifier\n",
    "avgsc_train_lst, avgsc_lst, avgsc_hld_lst, cnf_matrix = RandForestClassifier(table, target)"
   ]
  },
  {
   "cell_type": "code",
   "execution_count": 6,
   "metadata": {},
   "outputs": [
    {
     "name": "stdout",
     "output_type": "stream",
     "text": [
      "(8759, 52)\n",
      "(2920, 52)\n",
      "0.12963438650569398\n",
      "0.1267123287671233\n",
      "0.02684931506849315\n",
      "(8759, 52)\n",
      "(2920, 52)\n",
      "0.12852127750663583\n",
      "0.13116438356164384\n",
      "0.02684931506849315\n",
      "(8759, 52)\n",
      "(2920, 52)\n",
      "0.13134686188886036\n",
      "0.11986301369863013\n",
      "0.02684931506849315\n",
      "(8759, 52)\n",
      "(2920, 52)\n",
      "0.12638068327767787\n",
      "0.13972602739726028\n",
      "0.02684931506849315\n",
      "(8760, 52)\n",
      "(2920, 52)\n",
      "0.12936643835616438\n",
      "0.12778348749571772\n",
      "0.02684931506849315\n",
      "5-fold Train, Validation, and Test Accuracies:\n",
      "[0.12963438650569398, 0.12852127750663583, 0.13134686188886036, 0.12638068327767787, 0.12936643835616438]\n",
      "[0.1267123287671233, 0.13116438356164384, 0.11986301369863013, 0.13972602739726028, 0.12778348749571772]\n",
      "[0.02684931506849315, 0.02684931506849315, 0.02684931506849315, 0.02684931506849315, 0.02684931506849315]\n",
      "Avg Train, Validation, and Test Accuracies:\n",
      "0.1290499295070065\n",
      "0.12904984818407503\n",
      "0.02684931506849315\n"
     ]
    }
   ],
   "source": [
    "# MLP Classifier & Regressor\n",
    "avgsc_train_lst, avgsc_lst, avgsc_hld_lst = MLPClassifierr(table, target)"
   ]
  }
 ],
 "metadata": {
  "kernelspec": {
   "display_name": "Python 3",
   "language": "python",
   "name": "python3"
  },
  "language_info": {
   "codemirror_mode": {
    "name": "ipython",
    "version": 3
   },
   "file_extension": ".py",
   "mimetype": "text/x-python",
   "name": "python",
   "nbconvert_exporter": "python",
   "pygments_lexer": "ipython3",
   "version": "3.7.6"
  }
 },
 "nbformat": 4,
 "nbformat_minor": 4
}
